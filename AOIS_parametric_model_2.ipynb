{
 "cells": [
  {
   "cell_type": "code",
   "execution_count": null,
   "id": "dc76b3f1",
   "metadata": {},
   "outputs": [],
   "source": [
    "##STEP 1 : LOAD Library"
   ]
  },
  {
   "cell_type": "code",
   "execution_count": 95,
   "id": "ec6aad5b",
   "metadata": {},
   "outputs": [],
   "source": [
    "import pandas as pd\n",
    "from sklearn.preprocessing import PolynomialFeatures\n",
    "from sklearn.linear_model import LinearRegression\n",
    "from sklearn.model_selection import train_test_split\n",
    "from sklearn.metrics import mean_squared_error, r2_score\n",
    "import matplotlib.pyplot as plt\n",
    "\n"
   ]
  },
  {
   "cell_type": "code",
   "execution_count": null,
   "id": "0df7ded7",
   "metadata": {},
   "outputs": [],
   "source": []
  },
  {
   "cell_type": "code",
   "execution_count": 191,
   "id": "3b7aee85",
   "metadata": {},
   "outputs": [],
   "source": [
    "# Step 2: Import file\n",
    "mydata2 = pd.read_excel('MMM_Blender_data_2.xlsx')\n",
    "\n",
    "# adjust date format\n",
    "mydata2[\"Date_adjust\"] =pd.to_datetime(mydata2[\"Date\"], format=\"%b-%Y\")"
   ]
  },
  {
   "cell_type": "code",
   "execution_count": 192,
   "id": "548159b2",
   "metadata": {},
   "outputs": [
    {
     "data": {
      "text/html": [
       "<div>\n",
       "<style scoped>\n",
       "    .dataframe tbody tr th:only-of-type {\n",
       "        vertical-align: middle;\n",
       "    }\n",
       "\n",
       "    .dataframe tbody tr th {\n",
       "        vertical-align: top;\n",
       "    }\n",
       "\n",
       "    .dataframe thead th {\n",
       "        text-align: right;\n",
       "    }\n",
       "</style>\n",
       "<table border=\"1\" class=\"dataframe\">\n",
       "  <thead>\n",
       "    <tr style=\"text-align: right;\">\n",
       "      <th></th>\n",
       "      <th>Date</th>\n",
       "      <th>Sales ($)</th>\n",
       "      <th>TV_ads ($)</th>\n",
       "      <th>online_ads ($)</th>\n",
       "      <th>Print_ads ($)</th>\n",
       "      <th>Price ($)</th>\n",
       "      <th>Date_adjust</th>\n",
       "    </tr>\n",
       "  </thead>\n",
       "  <tbody>\n",
       "    <tr>\n",
       "      <th>0</th>\n",
       "      <td>Jan-2008</td>\n",
       "      <td>6237000</td>\n",
       "      <td>181222.548442</td>\n",
       "      <td>12152.540107</td>\n",
       "      <td>24986.912760</td>\n",
       "      <td>135.0</td>\n",
       "      <td>2008-01-01</td>\n",
       "    </tr>\n",
       "    <tr>\n",
       "      <th>1</th>\n",
       "      <td>Feb-2008</td>\n",
       "      <td>6115500</td>\n",
       "      <td>179104.353164</td>\n",
       "      <td>57353.376363</td>\n",
       "      <td>17574.385360</td>\n",
       "      <td>135.0</td>\n",
       "      <td>2008-02-01</td>\n",
       "    </tr>\n",
       "    <tr>\n",
       "      <th>2</th>\n",
       "      <td>Mar-2008</td>\n",
       "      <td>10577250</td>\n",
       "      <td>222756.223235</td>\n",
       "      <td>146794.245435</td>\n",
       "      <td>16016.022899</td>\n",
       "      <td>135.0</td>\n",
       "      <td>2008-03-01</td>\n",
       "    </tr>\n",
       "    <tr>\n",
       "      <th>3</th>\n",
       "      <td>Apr-2008</td>\n",
       "      <td>13473000</td>\n",
       "      <td>188266.818315</td>\n",
       "      <td>376459.468169</td>\n",
       "      <td>29689.694160</td>\n",
       "      <td>135.0</td>\n",
       "      <td>2008-04-01</td>\n",
       "    </tr>\n",
       "    <tr>\n",
       "      <th>4</th>\n",
       "      <td>May-2008</td>\n",
       "      <td>6258525</td>\n",
       "      <td>210038.289741</td>\n",
       "      <td>21297.573231</td>\n",
       "      <td>17606.991440</td>\n",
       "      <td>136.5</td>\n",
       "      <td>2008-05-01</td>\n",
       "    </tr>\n",
       "    <tr>\n",
       "      <th>...</th>\n",
       "      <td>...</td>\n",
       "      <td>...</td>\n",
       "      <td>...</td>\n",
       "      <td>...</td>\n",
       "      <td>...</td>\n",
       "      <td>...</td>\n",
       "      <td>...</td>\n",
       "    </tr>\n",
       "    <tr>\n",
       "      <th>145</th>\n",
       "      <td>Feb-2020</td>\n",
       "      <td>9486000</td>\n",
       "      <td>188038.562233</td>\n",
       "      <td>314738.939174</td>\n",
       "      <td>20633.865171</td>\n",
       "      <td>180.0</td>\n",
       "      <td>2020-02-01</td>\n",
       "    </tr>\n",
       "    <tr>\n",
       "      <th>146</th>\n",
       "      <td>Mar-2020</td>\n",
       "      <td>4230000</td>\n",
       "      <td>193748.973119</td>\n",
       "      <td>61583.121445</td>\n",
       "      <td>17514.258530</td>\n",
       "      <td>180.0</td>\n",
       "      <td>2020-03-01</td>\n",
       "    </tr>\n",
       "    <tr>\n",
       "      <th>147</th>\n",
       "      <td>Apr-2020</td>\n",
       "      <td>9504000</td>\n",
       "      <td>199048.223805</td>\n",
       "      <td>324562.541889</td>\n",
       "      <td>16122.631683</td>\n",
       "      <td>180.0</td>\n",
       "      <td>2020-04-01</td>\n",
       "    </tr>\n",
       "    <tr>\n",
       "      <th>148</th>\n",
       "      <td>May-2020</td>\n",
       "      <td>3861000</td>\n",
       "      <td>192013.052245</td>\n",
       "      <td>79169.843365</td>\n",
       "      <td>19993.295700</td>\n",
       "      <td>180.0</td>\n",
       "      <td>2020-05-01</td>\n",
       "    </tr>\n",
       "    <tr>\n",
       "      <th>149</th>\n",
       "      <td>Jun-2020</td>\n",
       "      <td>7353000</td>\n",
       "      <td>197303.595041</td>\n",
       "      <td>124235.088966</td>\n",
       "      <td>24013.997593</td>\n",
       "      <td>180.0</td>\n",
       "      <td>2020-06-01</td>\n",
       "    </tr>\n",
       "  </tbody>\n",
       "</table>\n",
       "<p>150 rows × 7 columns</p>\n",
       "</div>"
      ],
      "text/plain": [
       "         Date  Sales ($)     TV_ads ($)  online_ads ($)  Print_ads ($)  \\\n",
       "0    Jan-2008    6237000  181222.548442    12152.540107   24986.912760   \n",
       "1    Feb-2008    6115500  179104.353164    57353.376363   17574.385360   \n",
       "2    Mar-2008   10577250  222756.223235   146794.245435   16016.022899   \n",
       "3    Apr-2008   13473000  188266.818315   376459.468169   29689.694160   \n",
       "4    May-2008    6258525  210038.289741    21297.573231   17606.991440   \n",
       "..        ...        ...            ...             ...            ...   \n",
       "145  Feb-2020    9486000  188038.562233   314738.939174   20633.865171   \n",
       "146  Mar-2020    4230000  193748.973119    61583.121445   17514.258530   \n",
       "147  Apr-2020    9504000  199048.223805   324562.541889   16122.631683   \n",
       "148  May-2020    3861000  192013.052245    79169.843365   19993.295700   \n",
       "149  Jun-2020    7353000  197303.595041   124235.088966   24013.997593   \n",
       "\n",
       "     Price ($) Date_adjust  \n",
       "0        135.0  2008-01-01  \n",
       "1        135.0  2008-02-01  \n",
       "2        135.0  2008-03-01  \n",
       "3        135.0  2008-04-01  \n",
       "4        136.5  2008-05-01  \n",
       "..         ...         ...  \n",
       "145      180.0  2020-02-01  \n",
       "146      180.0  2020-03-01  \n",
       "147      180.0  2020-04-01  \n",
       "148      180.0  2020-05-01  \n",
       "149      180.0  2020-06-01  \n",
       "\n",
       "[150 rows x 7 columns]"
      ]
     },
     "execution_count": 192,
     "metadata": {},
     "output_type": "execute_result"
    }
   ],
   "source": [
    "mydata2"
   ]
  },
  {
   "cell_type": "code",
   "execution_count": 224,
   "id": "c63f658e",
   "metadata": {},
   "outputs": [
    {
     "name": "stdout",
     "output_type": "stream",
     "text": [
      "        Price ($)     TV_ads ($)  online_ads ($)  Print_ads ($)\n",
      "count  150.000000     150.000000      150.000000     150.000000\n",
      "mean   158.150000  200172.675917   123295.713622   19780.483463\n",
      "std     13.732799    9486.447152    88241.498625    4875.143064\n",
      "min    135.000000  176450.216326      876.373521    4716.529170\n",
      "25%    145.875000  193755.149356    54933.854835   16695.656714\n",
      "50%    158.250000  199504.100334   104538.370602   19926.875169\n",
      "75%    169.500000  206391.579637   172074.250144   22933.492770\n",
      "max    180.000000  222756.223235   442144.852073   32794.574130\n"
     ]
    }
   ],
   "source": [
    "print(X.describe())"
   ]
  },
  {
   "cell_type": "code",
   "execution_count": 228,
   "id": "5b3db8c5",
   "metadata": {},
   "outputs": [
    {
     "data": {
      "text/plain": [
       "7387596.0"
      ]
     },
     "execution_count": 228,
     "metadata": {},
     "output_type": "execute_result"
    }
   ],
   "source": [
    "np.mean(mydata2[\"Sales ($)\"])"
   ]
  },
  {
   "cell_type": "code",
   "execution_count": 194,
   "id": "41cd9251",
   "metadata": {},
   "outputs": [
    {
     "name": "stdout",
     "output_type": "stream",
     "text": [
      "Polynomial Features:\n",
      " ['Price ($)' 'TV_ads ($)' 'online_ads ($)' 'Print_ads ($)' 'Price ($)^2'\n",
      " 'Price ($) TV_ads ($)' 'Price ($) online_ads ($)'\n",
      " 'Price ($) Print_ads ($)' 'TV_ads ($)^2' 'TV_ads ($) online_ads ($)'\n",
      " 'TV_ads ($) Print_ads ($)' 'online_ads ($)^2'\n",
      " 'online_ads ($) Print_ads ($)' 'Print_ads ($)^2']\n"
     ]
    }
   ],
   "source": [
    "# step 3 : Define X,y\n",
    "X=mydata2[[\"Price ($)\",\"TV_ads ($)\",\"online_ads ($)\",\"Print_ads ($)\"]]\n",
    "y=mydata2[[\"Sales ($)\"]]\n",
    "\n",
    "\n",
    "# Create polynomial features (degree 2)\n",
    "poly = PolynomialFeatures(degree=2, include_bias=False)\n",
    "X_poly = poly.fit_transform(X)\n",
    "\n",
    "# Check the expanded features\n",
    "print(\"Polynomial Features:\\n\", poly.get_feature_names_out())"
   ]
  },
  {
   "cell_type": "code",
   "execution_count": 195,
   "id": "8ebdd27e",
   "metadata": {},
   "outputs": [],
   "source": [
    "# Scale features\n",
    "scaler = StandardScaler()\n",
    "X_poly_scaled = scaler.fit_transform(X_poly)\n"
   ]
  },
  {
   "cell_type": "code",
   "execution_count": 196,
   "id": "c736d1c1",
   "metadata": {},
   "outputs": [
    {
     "name": "stdout",
     "output_type": "stream",
     "text": [
      "Mean Squared Error: 376933548982.11\n",
      "R-squared: 0.95\n"
     ]
    }
   ],
   "source": [
    "\n",
    "# Train-test split\n",
    "X_train, X_test, y_train, y_test = train_test_split(X_poly_scaled, y, test_size=0.2, random_state=42)\n",
    "\n",
    "# # Initialize and fit Ridge Regression\n",
    "# ridge = Ridge(alpha=1.0)  # Adjust alpha for regularization strength\n",
    "# ridge.fit(X_train, y_train)\n",
    "\n",
    "# # Predict on the test set\n",
    "# y_pred = ridge.predict(X_test)\n",
    "\n",
    "\n",
    "# # Evaluate\n",
    "# mse = mean_squared_error(y_test, y_pred)\n",
    "# r2 = r2_score(y_test, y_pred)\n",
    "\n",
    "# print(f\"Mean Squared Error: {mse:.2f}\")\n",
    "# print(f\"R-squared: {r2:.2f}\")\n"
   ]
  },
  {
   "cell_type": "code",
   "execution_count": null,
   "id": "850d9ad8",
   "metadata": {},
   "outputs": [],
   "source": []
  },
  {
   "cell_type": "code",
   "execution_count": null,
   "id": "18fdbcc1",
   "metadata": {},
   "outputs": [],
   "source": []
  },
  {
   "cell_type": "code",
   "execution_count": 197,
   "id": "5cedc57d",
   "metadata": {},
   "outputs": [
    {
     "name": "stdout",
     "output_type": "stream",
     "text": [
      "Best Alpha: 0.1\n",
      "Final Mean Squared Error: 305605937215.01\n",
      "Final R-squared: 0.96\n"
     ]
    }
   ],
   "source": [
    "# step 5: find the optimzie alpha from ridge model to regularization \n",
    "from sklearn.model_selection import GridSearchCV\n",
    " \n",
    "# Define a range of alpha values\n",
    "param_grid = {'alpha': [0.01, 0.1, 1, 10, 100]}\n",
    "\n",
    "# Grid search with cross-validation\n",
    "ridge = Ridge()\n",
    "grid_search = GridSearchCV(ridge, param_grid, cv=5, scoring='neg_mean_squared_error')\n",
    "grid_search.fit(X_train, y_train)\n",
    "\n",
    "# Best alpha and best model\n",
    "best_alpha = grid_search.best_params_['alpha']\n",
    "print(f\"Best Alpha: {best_alpha}\")\n",
    "best_model = grid_search.best_estimator_\n",
    "\n",
    "\n",
    "# Predict with the best model\n",
    "y_pred_best = best_model.predict(X_test)\n",
    "\n",
    "# Final evaluation\n",
    "final_mse = mean_squared_error(y_test, y_pred_best)\n",
    "final_r2 = r2_score(y_test, y_pred_best)\n",
    "\n",
    "print(f\"Final Mean Squared Error: {final_mse:.2f}\")\n",
    "print(f\"Final R-squared: {final_r2:.2f}\")"
   ]
  },
  {
   "cell_type": "code",
   "execution_count": null,
   "id": "42aa90ab",
   "metadata": {},
   "outputs": [],
   "source": [
    "\n"
   ]
  },
  {
   "cell_type": "code",
   "execution_count": 211,
   "id": "cecf1888",
   "metadata": {},
   "outputs": [
    {
     "data": {
      "text/html": [
       "<style>#sk-container-id-7 {color: black;background-color: white;}#sk-container-id-7 pre{padding: 0;}#sk-container-id-7 div.sk-toggleable {background-color: white;}#sk-container-id-7 label.sk-toggleable__label {cursor: pointer;display: block;width: 100%;margin-bottom: 0;padding: 0.3em;box-sizing: border-box;text-align: center;}#sk-container-id-7 label.sk-toggleable__label-arrow:before {content: \"▸\";float: left;margin-right: 0.25em;color: #696969;}#sk-container-id-7 label.sk-toggleable__label-arrow:hover:before {color: black;}#sk-container-id-7 div.sk-estimator:hover label.sk-toggleable__label-arrow:before {color: black;}#sk-container-id-7 div.sk-toggleable__content {max-height: 0;max-width: 0;overflow: hidden;text-align: left;background-color: #f0f8ff;}#sk-container-id-7 div.sk-toggleable__content pre {margin: 0.2em;color: black;border-radius: 0.25em;background-color: #f0f8ff;}#sk-container-id-7 input.sk-toggleable__control:checked~div.sk-toggleable__content {max-height: 200px;max-width: 100%;overflow: auto;}#sk-container-id-7 input.sk-toggleable__control:checked~label.sk-toggleable__label-arrow:before {content: \"▾\";}#sk-container-id-7 div.sk-estimator input.sk-toggleable__control:checked~label.sk-toggleable__label {background-color: #d4ebff;}#sk-container-id-7 div.sk-label input.sk-toggleable__control:checked~label.sk-toggleable__label {background-color: #d4ebff;}#sk-container-id-7 input.sk-hidden--visually {border: 0;clip: rect(1px 1px 1px 1px);clip: rect(1px, 1px, 1px, 1px);height: 1px;margin: -1px;overflow: hidden;padding: 0;position: absolute;width: 1px;}#sk-container-id-7 div.sk-estimator {font-family: monospace;background-color: #f0f8ff;border: 1px dotted black;border-radius: 0.25em;box-sizing: border-box;margin-bottom: 0.5em;}#sk-container-id-7 div.sk-estimator:hover {background-color: #d4ebff;}#sk-container-id-7 div.sk-parallel-item::after {content: \"\";width: 100%;border-bottom: 1px solid gray;flex-grow: 1;}#sk-container-id-7 div.sk-label:hover label.sk-toggleable__label {background-color: #d4ebff;}#sk-container-id-7 div.sk-serial::before {content: \"\";position: absolute;border-left: 1px solid gray;box-sizing: border-box;top: 0;bottom: 0;left: 50%;z-index: 0;}#sk-container-id-7 div.sk-serial {display: flex;flex-direction: column;align-items: center;background-color: white;padding-right: 0.2em;padding-left: 0.2em;position: relative;}#sk-container-id-7 div.sk-item {position: relative;z-index: 1;}#sk-container-id-7 div.sk-parallel {display: flex;align-items: stretch;justify-content: center;background-color: white;position: relative;}#sk-container-id-7 div.sk-item::before, #sk-container-id-7 div.sk-parallel-item::before {content: \"\";position: absolute;border-left: 1px solid gray;box-sizing: border-box;top: 0;bottom: 0;left: 50%;z-index: -1;}#sk-container-id-7 div.sk-parallel-item {display: flex;flex-direction: column;z-index: 1;position: relative;background-color: white;}#sk-container-id-7 div.sk-parallel-item:first-child::after {align-self: flex-end;width: 50%;}#sk-container-id-7 div.sk-parallel-item:last-child::after {align-self: flex-start;width: 50%;}#sk-container-id-7 div.sk-parallel-item:only-child::after {width: 0;}#sk-container-id-7 div.sk-dashed-wrapped {border: 1px dashed gray;margin: 0 0.4em 0.5em 0.4em;box-sizing: border-box;padding-bottom: 0.4em;background-color: white;}#sk-container-id-7 div.sk-label label {font-family: monospace;font-weight: bold;display: inline-block;line-height: 1.2em;}#sk-container-id-7 div.sk-label-container {text-align: center;}#sk-container-id-7 div.sk-container {/* jupyter's `normalize.less` sets `[hidden] { display: none; }` but bootstrap.min.css set `[hidden] { display: none !important; }` so we also need the `!important` here to be able to override the default hidden behavior on the sphinx rendered scikit-learn.org. See: https://github.com/scikit-learn/scikit-learn/issues/21755 */display: inline-block !important;position: relative;}#sk-container-id-7 div.sk-text-repr-fallback {display: none;}</style><div id=\"sk-container-id-7\" class=\"sk-top-container\"><div class=\"sk-text-repr-fallback\"><pre>Ridge()</pre><b>In a Jupyter environment, please rerun this cell to show the HTML representation or trust the notebook. <br />On GitHub, the HTML representation is unable to render, please try loading this page with nbviewer.org.</b></div><div class=\"sk-container\" hidden><div class=\"sk-item\"><div class=\"sk-estimator sk-toggleable\"><input class=\"sk-toggleable__control sk-hidden--visually\" id=\"sk-estimator-id-7\" type=\"checkbox\" checked><label for=\"sk-estimator-id-7\" class=\"sk-toggleable__label sk-toggleable__label-arrow\">Ridge</label><div class=\"sk-toggleable__content\"><pre>Ridge()</pre></div></div></div></div></div>"
      ],
      "text/plain": [
       "Ridge()"
      ]
     },
     "execution_count": 211,
     "metadata": {},
     "output_type": "execute_result"
    }
   ],
   "source": [
    "\n",
    "# Generate Ridge model with polynomical =2\n",
    "poly = PolynomialFeatures(degree=2, include_bias=False)\n",
    "X_poly = poly.fit_transform(X)\n",
    "scaler = StandardScaler()\n",
    "X_poly_scaled = scaler.fit_transform(X_poly)\n",
    "\n",
    "# Fit Ridge Regression\n",
    "ridge = Ridge(alpha=1.0)\n",
    "ridge.fit(X_poly_scaled, y)\n",
    "\n"
   ]
  },
  {
   "cell_type": "code",
   "execution_count": 216,
   "id": "84c3dd9b",
   "metadata": {},
   "outputs": [
    {
     "data": {
      "text/plain": [
       "array(['Price ($)', 'TV_ads ($)', 'online_ads ($)', 'Print_ads ($)',\n",
       "       'Price ($)^2', 'Price ($) TV_ads ($)', 'Price ($) online_ads ($)',\n",
       "       'Price ($) Print_ads ($)', 'TV_ads ($)^2',\n",
       "       'TV_ads ($) online_ads ($)', 'TV_ads ($) Print_ads ($)',\n",
       "       'online_ads ($)^2', 'online_ads ($) Print_ads ($)',\n",
       "       'Print_ads ($)^2'], dtype=object)"
      ]
     },
     "execution_count": 216,
     "metadata": {},
     "output_type": "execute_result"
    }
   ],
   "source": [
    "feature_names"
   ]
  },
  {
   "cell_type": "code",
   "execution_count": 218,
   "id": "6084b8ce",
   "metadata": {},
   "outputs": [
    {
     "name": "stdout",
     "output_type": "stream",
     "text": [
      "                         Feature   Coefficient\n",
      "6       Price ($) online_ads ($)  1.889023e+06\n",
      "9      TV_ads ($) online_ads ($)  7.757079e+05\n",
      "2                 online_ads ($)  6.734126e+05\n",
      "7        Price ($) Print_ads ($)  6.154788e+05\n",
      "5           Price ($) TV_ads ($)  2.955337e+05\n",
      "1                     TV_ads ($)  2.248107e+05\n",
      "12  online_ads ($) Print_ads ($)  1.772477e+05\n",
      "8                   TV_ads ($)^2  1.397901e+05\n",
      "3                  Print_ads ($)  6.804439e+04\n",
      "10      TV_ads ($) Print_ads ($)  3.448863e+04\n",
      "13               Print_ads ($)^2 -3.020099e+05\n",
      "0                      Price ($) -5.266760e+05\n",
      "4                    Price ($)^2 -1.160880e+06\n",
      "11              online_ads ($)^2 -1.314044e+06\n"
     ]
    }
   ],
   "source": [
    "import pandas as pd\n",
    "\n",
    "# Example coefficients (as NumPy array)\n",
    "coefficients = ridge.coef_  # Replace this with your model's coefficients\n",
    "feature_names = poly.get_feature_names_out()  # Get feature names\n",
    "coefficients = ridge.coef_.flatten()\n",
    "\n",
    "# Create a DataFrame for coefficients\n",
    "coefficients_df = pd.DataFrame({\n",
    "    \"Feature\":feature_names ,\n",
    "    \"Coefficient\": coefficients\n",
    "   #  \"Absolute Importance\": np.abs(coefficients)\n",
    "})\n",
    "# Sort coefficients by their absolute values or values\n",
    "coefficients_sorted = coefficients_df.sort_values(by=\"Coefficient\", ascending=False)\n",
    "\n",
    "# Display sorted coefficients\n",
    "print(coefficients_sorted)\n",
    "\n",
    "\n",
    "\n",
    "# . Interpretation of Results\n",
    "# the target (Sales) is primarily influenced by Price, with less contribution from ad channels\n",
    "\n",
    "#Ridge Regularization Shrinks Other Coefficients: \n",
    "# Ridge reduces the magnitude of coefficients for features with low explanatory power, leaving dominant predictors unaffected (or less affected)."
   ]
  },
  {
   "cell_type": "code",
   "execution_count": null,
   "id": "fe28f463",
   "metadata": {},
   "outputs": [],
   "source": []
  },
  {
   "cell_type": "code",
   "execution_count": 219,
   "id": "c51658aa",
   "metadata": {},
   "outputs": [
    {
     "data": {
      "image/png": "[encoded data removed]",
      "text/plain": [
       "<Figure size 432x288 with 1 Axes>"
      ]
     },
     "metadata": {
      "needs_background": "light"
     },
     "output_type": "display_data"
    }
   ],
   "source": [
    "import matplotlib.pyplot as plt\n",
    "\n",
    "coefficients_sorted.plot(\n",
    "    kind=\"bar\", x=\"Feature\", y=\"Coefficient\", legend=False, title=\"Feature Importance\"\n",
    ")\n",
    "plt.ylabel(\"Coefficient Value\")\n",
    "plt.show()\n",
    "\n"
   ]
  },
  {
   "cell_type": "code",
   "execution_count": 221,
   "id": "46c04f13",
   "metadata": {},
   "outputs": [
    {
     "data": {
      "image/png": "[encoded data removed]",
      "text/plain": [
       "<Figure size 432x288 with 1 Axes>"
      ]
     },
     "metadata": {
      "needs_background": "light"
     },
     "output_type": "display_data"
    }
   ],
   "source": [
    "import matplotlib.pyplot as plt\n",
    "\n",
    "plt.scatter(X[\"Price ($)\"], y, label=\"Actual Data\")\n",
    "plt.scatter(X[\"Price ($)\"], ridge.predict(X_poly_scaled), color=\"red\", label=\"Predicted\")\n",
    "plt.xlabel(\"Price\")\n",
    "plt.ylabel(\"Sales\")\n",
    "plt.legend()\n",
    "plt.title(\"Price vs Sales with Polynomial Ridge Regression\")\n",
    "plt.show()\n"
   ]
  },
  {
   "cell_type": "code",
   "execution_count": null,
   "id": "98d27b54",
   "metadata": {},
   "outputs": [],
   "source": []
  },
  {
   "cell_type": "code",
   "execution_count": null,
   "id": "26d861b5",
   "metadata": {},
   "outputs": [],
   "source": []
  },
  {
   "cell_type": "code",
   "execution_count": null,
   "id": "fbd610df",
   "metadata": {},
   "outputs": [],
   "source": []
  },
  {
   "cell_type": "code",
   "execution_count": 229,
   "id": "fcceb2e6",
   "metadata": {},
   "outputs": [
    {
     "data": {
      "text/html": [
       "<div>\n",
       "<style scoped>\n",
       "    .dataframe tbody tr th:only-of-type {\n",
       "        vertical-align: middle;\n",
       "    }\n",
       "\n",
       "    .dataframe tbody tr th {\n",
       "        vertical-align: top;\n",
       "    }\n",
       "\n",
       "    .dataframe thead th {\n",
       "        text-align: right;\n",
       "    }\n",
       "</style>\n",
       "<table border=\"1\" class=\"dataframe\">\n",
       "  <thead>\n",
       "    <tr style=\"text-align: right;\">\n",
       "      <th></th>\n",
       "      <th>Feature</th>\n",
       "      <th>Coefficient</th>\n",
       "    </tr>\n",
       "  </thead>\n",
       "  <tbody>\n",
       "    <tr>\n",
       "      <th>0</th>\n",
       "      <td>Price ($)</td>\n",
       "      <td>-5.266760e+05</td>\n",
       "    </tr>\n",
       "    <tr>\n",
       "      <th>1</th>\n",
       "      <td>TV_ads ($)</td>\n",
       "      <td>2.248107e+05</td>\n",
       "    </tr>\n",
       "    <tr>\n",
       "      <th>2</th>\n",
       "      <td>online_ads ($)</td>\n",
       "      <td>6.734126e+05</td>\n",
       "    </tr>\n",
       "    <tr>\n",
       "      <th>3</th>\n",
       "      <td>Print_ads ($)</td>\n",
       "      <td>6.804439e+04</td>\n",
       "    </tr>\n",
       "    <tr>\n",
       "      <th>4</th>\n",
       "      <td>Price ($)^2</td>\n",
       "      <td>-1.160880e+06</td>\n",
       "    </tr>\n",
       "    <tr>\n",
       "      <th>5</th>\n",
       "      <td>Price ($) TV_ads ($)</td>\n",
       "      <td>2.955337e+05</td>\n",
       "    </tr>\n",
       "    <tr>\n",
       "      <th>6</th>\n",
       "      <td>Price ($) online_ads ($)</td>\n",
       "      <td>1.889023e+06</td>\n",
       "    </tr>\n",
       "    <tr>\n",
       "      <th>7</th>\n",
       "      <td>Price ($) Print_ads ($)</td>\n",
       "      <td>6.154788e+05</td>\n",
       "    </tr>\n",
       "    <tr>\n",
       "      <th>8</th>\n",
       "      <td>TV_ads ($)^2</td>\n",
       "      <td>1.397901e+05</td>\n",
       "    </tr>\n",
       "    <tr>\n",
       "      <th>9</th>\n",
       "      <td>TV_ads ($) online_ads ($)</td>\n",
       "      <td>7.757079e+05</td>\n",
       "    </tr>\n",
       "    <tr>\n",
       "      <th>10</th>\n",
       "      <td>TV_ads ($) Print_ads ($)</td>\n",
       "      <td>3.448863e+04</td>\n",
       "    </tr>\n",
       "    <tr>\n",
       "      <th>11</th>\n",
       "      <td>online_ads ($)^2</td>\n",
       "      <td>-1.314044e+06</td>\n",
       "    </tr>\n",
       "    <tr>\n",
       "      <th>12</th>\n",
       "      <td>online_ads ($) Print_ads ($)</td>\n",
       "      <td>1.772477e+05</td>\n",
       "    </tr>\n",
       "    <tr>\n",
       "      <th>13</th>\n",
       "      <td>Print_ads ($)^2</td>\n",
       "      <td>-3.020099e+05</td>\n",
       "    </tr>\n",
       "  </tbody>\n",
       "</table>\n",
       "</div>"
      ],
      "text/plain": [
       "                         Feature   Coefficient\n",
       "0                      Price ($) -5.266760e+05\n",
       "1                     TV_ads ($)  2.248107e+05\n",
       "2                 online_ads ($)  6.734126e+05\n",
       "3                  Print_ads ($)  6.804439e+04\n",
       "4                    Price ($)^2 -1.160880e+06\n",
       "5           Price ($) TV_ads ($)  2.955337e+05\n",
       "6       Price ($) online_ads ($)  1.889023e+06\n",
       "7        Price ($) Print_ads ($)  6.154788e+05\n",
       "8                   TV_ads ($)^2  1.397901e+05\n",
       "9      TV_ads ($) online_ads ($)  7.757079e+05\n",
       "10      TV_ads ($) Print_ads ($)  3.448863e+04\n",
       "11              online_ads ($)^2 -1.314044e+06\n",
       "12  online_ads ($) Print_ads ($)  1.772477e+05\n",
       "13               Print_ads ($)^2 -3.020099e+05"
      ]
     },
     "execution_count": 229,
     "metadata": {},
     "output_type": "execute_result"
    }
   ],
   "source": [
    "coefficients_df"
   ]
  },
  {
   "cell_type": "code",
   "execution_count": null,
   "id": "a25f3776",
   "metadata": {},
   "outputs": [],
   "source": [
    "import pandas as pd\n",
    "\n",
    "# Coefficients from Ridge model\n",
    "coefficients_df\n",
    "\n",
    "\n",
    "# Mean values\n",
    "means = {\"Price\": 10, \"Channel1\": 200, \"Channel2\": 150, \"Sales\": 500}\n",
    "\n",
    "# Calculate ROI and Elasticity for each channel\n",
    "results = []\n",
    "for feature in [\"Channel1\", \"Channel2\"]:\n",
    "    interaction_term = f\"Price_{feature}\"\n",
    "    direct_effect = coefficients[feature]\n",
    "    interaction_effect = coefficients.get(interaction_term, 0) * means[\"Price\"]\n",
    "\n",
    "    # Total effect\n",
    "    total_effect = direct_effect + interaction_effect\n",
    "\n",
    "    # ROI (Assume cost per unit spend = 1.5)\n",
    "    cost = 1.5\n",
    "    roi = total_effect / cost\n",
    "\n",
    "    # Elasticity\n",
    "    elasticity = (total_effect * means[feature]) / means[\"Sales\"]\n",
    "\n",
    "    results.append({\"Feature\": feature, \"ROI\": roi, \"Elasticity\": elasticity})\n",
    "\n",
    "# Display results\n",
    "results_df = pd.DataFrame(results)\n",
    "print(results_df)\n"
   ]
  }
 ],
 "metadata": {
  "kernelspec": {
   "display_name": "Python 3 (ipykernel)",
   "language": "python",
   "name": "python3"
  },
  "language_info": {
   "codemirror_mode": {
    "name": "ipython",
    "version": 3
   },
   "file_extension": ".py",
   "mimetype": "text/x-python",
   "name": "python",
   "nbconvert_exporter": "python",
   "pygments_lexer": "ipython3",
   "version": "3.9.12"
  }
 },
 "nbformat": 4,
 "nbformat_minor": 5
}

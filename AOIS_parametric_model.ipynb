{
 "cells": [
  {
   "cell_type": "code",
   "execution_count": null,
   "id": "dc133e14",
   "metadata": {},
   "outputs": [],
   "source": [
    "##STEP 1 : LOAD Library"
   ]
  },
  {
   "cell_type": "code",
   "execution_count": 95,
   "id": "bc887d05",
   "metadata": {},
   "outputs": [],
   "source": [
    "import pandas as pd\n",
    "from sklearn.preprocessing import PolynomialFeatures\n",
    "from sklearn.linear_model import LinearRegression\n",
    "from sklearn.model_selection import train_test_split\n",
    "from sklearn.metrics import mean_squared_error, r2_score\n",
    "import matplotlib.pyplot as plt\n",
    "\n"
   ]
  },
  {
   "cell_type": "code",
   "execution_count": null,
   "id": "2a234d2b",
   "metadata": {},
   "outputs": [],
   "source": []
  },
  {
   "cell_type": "code",
   "execution_count": 114,
   "id": "e7662e4c",
   "metadata": {},
   "outputs": [],
   "source": [
    "# Step 2: Import file\n",
    "mydata2 = pd.read_excel('MMM_Blender_data_2.xlsx')\n",
    "\n",
    "# adjust date format\n",
    "mydata2[\"Date_adjust\"] =pd.to_datetime(mydata2[\"Date\"], format=\"%b-%Y\")"
   ]
  },
  {
   "cell_type": "code",
   "execution_count": 115,
   "id": "743c0bbe",
   "metadata": {},
   "outputs": [
    {
     "data": {
      "text/html": [
       "<div>\n",
       "<style scoped>\n",
       "    .dataframe tbody tr th:only-of-type {\n",
       "        vertical-align: middle;\n",
       "    }\n",
       "\n",
       "    .dataframe tbody tr th {\n",
       "        vertical-align: top;\n",
       "    }\n",
       "\n",
       "    .dataframe thead th {\n",
       "        text-align: right;\n",
       "    }\n",
       "</style>\n",
       "<table border=\"1\" class=\"dataframe\">\n",
       "  <thead>\n",
       "    <tr style=\"text-align: right;\">\n",
       "      <th></th>\n",
       "      <th>Date</th>\n",
       "      <th>Sales ($)</th>\n",
       "      <th>TV_ads ($)</th>\n",
       "      <th>online_ads ($)</th>\n",
       "      <th>Print_ads ($)</th>\n",
       "      <th>Price ($)</th>\n",
       "      <th>Date_adjust</th>\n",
       "    </tr>\n",
       "  </thead>\n",
       "  <tbody>\n",
       "    <tr>\n",
       "      <th>0</th>\n",
       "      <td>Jan-2008</td>\n",
       "      <td>6237000</td>\n",
       "      <td>181222.548442</td>\n",
       "      <td>12152.540107</td>\n",
       "      <td>24986.912760</td>\n",
       "      <td>135.0</td>\n",
       "      <td>2008-01-01</td>\n",
       "    </tr>\n",
       "    <tr>\n",
       "      <th>1</th>\n",
       "      <td>Feb-2008</td>\n",
       "      <td>6115500</td>\n",
       "      <td>179104.353164</td>\n",
       "      <td>57353.376363</td>\n",
       "      <td>17574.385360</td>\n",
       "      <td>135.0</td>\n",
       "      <td>2008-02-01</td>\n",
       "    </tr>\n",
       "    <tr>\n",
       "      <th>2</th>\n",
       "      <td>Mar-2008</td>\n",
       "      <td>10577250</td>\n",
       "      <td>222756.223235</td>\n",
       "      <td>146794.245435</td>\n",
       "      <td>16016.022899</td>\n",
       "      <td>135.0</td>\n",
       "      <td>2008-03-01</td>\n",
       "    </tr>\n",
       "    <tr>\n",
       "      <th>3</th>\n",
       "      <td>Apr-2008</td>\n",
       "      <td>13473000</td>\n",
       "      <td>188266.818315</td>\n",
       "      <td>376459.468169</td>\n",
       "      <td>29689.694160</td>\n",
       "      <td>135.0</td>\n",
       "      <td>2008-04-01</td>\n",
       "    </tr>\n",
       "    <tr>\n",
       "      <th>4</th>\n",
       "      <td>May-2008</td>\n",
       "      <td>6258525</td>\n",
       "      <td>210038.289741</td>\n",
       "      <td>21297.573231</td>\n",
       "      <td>17606.991440</td>\n",
       "      <td>136.5</td>\n",
       "      <td>2008-05-01</td>\n",
       "    </tr>\n",
       "    <tr>\n",
       "      <th>...</th>\n",
       "      <td>...</td>\n",
       "      <td>...</td>\n",
       "      <td>...</td>\n",
       "      <td>...</td>\n",
       "      <td>...</td>\n",
       "      <td>...</td>\n",
       "      <td>...</td>\n",
       "    </tr>\n",
       "    <tr>\n",
       "      <th>145</th>\n",
       "      <td>Feb-2020</td>\n",
       "      <td>9486000</td>\n",
       "      <td>188038.562233</td>\n",
       "      <td>314738.939174</td>\n",
       "      <td>20633.865171</td>\n",
       "      <td>180.0</td>\n",
       "      <td>2020-02-01</td>\n",
       "    </tr>\n",
       "    <tr>\n",
       "      <th>146</th>\n",
       "      <td>Mar-2020</td>\n",
       "      <td>4230000</td>\n",
       "      <td>193748.973119</td>\n",
       "      <td>61583.121445</td>\n",
       "      <td>17514.258530</td>\n",
       "      <td>180.0</td>\n",
       "      <td>2020-03-01</td>\n",
       "    </tr>\n",
       "    <tr>\n",
       "      <th>147</th>\n",
       "      <td>Apr-2020</td>\n",
       "      <td>9504000</td>\n",
       "      <td>199048.223805</td>\n",
       "      <td>324562.541889</td>\n",
       "      <td>16122.631683</td>\n",
       "      <td>180.0</td>\n",
       "      <td>2020-04-01</td>\n",
       "    </tr>\n",
       "    <tr>\n",
       "      <th>148</th>\n",
       "      <td>May-2020</td>\n",
       "      <td>3861000</td>\n",
       "      <td>192013.052245</td>\n",
       "      <td>79169.843365</td>\n",
       "      <td>19993.295700</td>\n",
       "      <td>180.0</td>\n",
       "      <td>2020-05-01</td>\n",
       "    </tr>\n",
       "    <tr>\n",
       "      <th>149</th>\n",
       "      <td>Jun-2020</td>\n",
       "      <td>7353000</td>\n",
       "      <td>197303.595041</td>\n",
       "      <td>124235.088966</td>\n",
       "      <td>24013.997593</td>\n",
       "      <td>180.0</td>\n",
       "      <td>2020-06-01</td>\n",
       "    </tr>\n",
       "  </tbody>\n",
       "</table>\n",
       "<p>150 rows × 7 columns</p>\n",
       "</div>"
      ],
      "text/plain": [
       "         Date  Sales ($)     TV_ads ($)  online_ads ($)  Print_ads ($)  \\\n",
       "0    Jan-2008    6237000  181222.548442    12152.540107   24986.912760   \n",
       "1    Feb-2008    6115500  179104.353164    57353.376363   17574.385360   \n",
       "2    Mar-2008   10577250  222756.223235   146794.245435   16016.022899   \n",
       "3    Apr-2008   13473000  188266.818315   376459.468169   29689.694160   \n",
       "4    May-2008    6258525  210038.289741    21297.573231   17606.991440   \n",
       "..        ...        ...            ...             ...            ...   \n",
       "145  Feb-2020    9486000  188038.562233   314738.939174   20633.865171   \n",
       "146  Mar-2020    4230000  193748.973119    61583.121445   17514.258530   \n",
       "147  Apr-2020    9504000  199048.223805   324562.541889   16122.631683   \n",
       "148  May-2020    3861000  192013.052245    79169.843365   19993.295700   \n",
       "149  Jun-2020    7353000  197303.595041   124235.088966   24013.997593   \n",
       "\n",
       "     Price ($) Date_adjust  \n",
       "0        135.0  2008-01-01  \n",
       "1        135.0  2008-02-01  \n",
       "2        135.0  2008-03-01  \n",
       "3        135.0  2008-04-01  \n",
       "4        136.5  2008-05-01  \n",
       "..         ...         ...  \n",
       "145      180.0  2020-02-01  \n",
       "146      180.0  2020-03-01  \n",
       "147      180.0  2020-04-01  \n",
       "148      180.0  2020-05-01  \n",
       "149      180.0  2020-06-01  \n",
       "\n",
       "[150 rows x 7 columns]"
      ]
     },
     "execution_count": 115,
     "metadata": {},
     "output_type": "execute_result"
    }
   ],
   "source": [
    "mydata2"
   ]
  },
  {
   "cell_type": "code",
   "execution_count": null,
   "id": "4cd97d5f",
   "metadata": {},
   "outputs": [],
   "source": []
  },
  {
   "cell_type": "code",
   "execution_count": 116,
   "id": "c19b6004",
   "metadata": {},
   "outputs": [],
   "source": [
    "# step 3 : Define X,y\n",
    "X=mydata2[[\"Price ($)\",\"TV_ads ($)\",\"online_ads ($)\",\"Print_ads ($)\"]]\n",
    "y=mydata2[[\"Sales ($)\"]]\n",
    "\n",
    "from sklearn.model_selection import train_test_split\n",
    "X_train, X_test, y_train, y_test = train_test_split(X, y, test_size=0.2, random_state=42)\n"
   ]
  },
  {
   "cell_type": "code",
   "execution_count": 117,
   "id": "494b9d71",
   "metadata": {},
   "outputs": [
    {
     "name": "stdout",
     "output_type": "stream",
     "text": [
      "Degree 1: MSE = 686455818378.26, R2 = 0.92, Features = 4\n",
      "Degree 2: MSE = 280344644563.11, R2 = 0.97, Features = 14\n",
      "Degree 3: MSE = 522906117702.83, R2 = 0.94, Features = 34\n",
      "Degree 4: MSE = 1047742339702.16, R2 = 0.87, Features = 69\n",
      "Degree 5: MSE = 28879084151431.80, R2 = -2.50, Features = 125\n"
     ]
    }
   ],
   "source": [
    "#step 4: train with polynomial model with degree 1 2 3 4--to see if there are non linearity relationship\n",
    "results = {}\n",
    "\n",
    "for degree in [1,2, 3, 4, 5]:\n",
    "    # Create polynomial features\n",
    "    poly = PolynomialFeatures(degree=degree, include_bias=False)\n",
    "    X_train_poly = poly.fit_transform(X_train)\n",
    "    X_test_poly = poly.transform(X_test)\n",
    "    \n",
    "    # Train linear regression model\n",
    "    model = LinearRegression()\n",
    "    model.fit(X_train_poly, y_train)\n",
    "    \n",
    "    # Make predictions\n",
    "    y_pred = model.predict(X_test_poly)\n",
    "    \n",
    "    # Evaluate the model\n",
    "    mse = mean_squared_error(y_test, y_pred)\n",
    "    r2 = r2_score(y_test, y_pred)\n",
    "    \n",
    "    # Save results\n",
    "    results[degree] = {\"MSE\": mse, \"R2\": r2, \"Num Features\": X_train_poly.shape[1]}\n",
    "    \n",
    "    print(f\"Degree {degree}: MSE = {mse:.2f}, R2 = {r2:.2f}, Features = {X_train_poly.shape[1]}\")\n"
   ]
  },
  {
   "cell_type": "code",
   "execution_count": 118,
   "id": "5a732839",
   "metadata": {},
   "outputs": [
    {
     "data": {
      "image/png": "[encoded data removed]",
      "text/plain": [
       "<Figure size 432x288 with 1 Axes>"
      ]
     },
     "metadata": {
      "needs_background": "light"
     },
     "output_type": "display_data"
    },
    {
     "data": {
      "image/png": "[encoded data removed]",
      "text/plain": [
       "<Figure size 432x288 with 1 Axes>"
      ]
     },
     "metadata": {
      "needs_background": "light"
     },
     "output_type": "display_data"
    }
   ],
   "source": [
    "# 4.2 plot the chart\n",
    "degrees = list(results.keys())\n",
    "mse_values = [results[deg][\"MSE\"] for deg in degrees]\n",
    "r2_values = [results[deg][\"R2\"] for deg in degrees]\n",
    "\n",
    "# Plot MSE\n",
    "plt.figure()\n",
    "plt.plot(degrees, mse_values, marker='o')\n",
    "plt.title(\"Mean Squared Error vs Degree\")\n",
    "plt.xlabel(\"Polynomial Degree\")\n",
    "plt.ylabel(\"MSE\")\n",
    "plt.grid(True)\n",
    "plt.show()\n",
    "\n",
    "# Plot R²\n",
    "plt.figure()\n",
    "plt.plot(degrees, r2_values, marker='o')\n",
    "plt.title(\"R-squared vs Degree\")\n",
    "plt.xlabel(\"Polynomial Degree\")\n",
    "plt.ylabel(\"R²\")\n",
    "plt.grid(True)\n",
    "plt.show()\n"
   ]
  },
  {
   "cell_type": "code",
   "execution_count": 109,
   "id": "16968b54",
   "metadata": {},
   "outputs": [],
   "source": [
    "# from sklearn.preprocessing import PolynomialFeatures\n",
    "# from sklearn.pipeline import make_pipeline\n",
    "# from sklearn.linear_model import LinearRegression\n",
    "\n",
    "# # Define pipeline with polynomial features and regression model\n",
    "# from sklearn.model_selection import GridSearchCV\n",
    "# param_grid = {'polynomialfeatures__degree': [2, 3, 4, 5]}\n",
    "# pipeline = make_pipeline(PolynomialFeatures(), LinearRegression())\n",
    "\n",
    "# grid_search = GridSearchCV(pipeline, param_grid, cv=5, scoring='neg_mean_squared_error')\n",
    "# grid_search.fit(X_train, y_train)\n",
    "\n",
    "# print(\"Best Degree:\", grid_search.best_params_['polynomialfeatures__degree'])\n",
    "# best_model = grid_search.best_estimator_\n",
    "\n"
   ]
  },
  {
   "cell_type": "code",
   "execution_count": null,
   "id": "a057cf67",
   "metadata": {},
   "outputs": [],
   "source": []
  },
  {
   "cell_type": "code",
   "execution_count": null,
   "id": "c3f51c99",
   "metadata": {},
   "outputs": [],
   "source": []
  },
  {
   "cell_type": "code",
   "execution_count": 157,
   "id": "b7db2cb1",
   "metadata": {},
   "outputs": [
    {
     "name": "stderr",
     "output_type": "stream",
     "text": [
      "C:\\Users\\yu301\\anaconda3\\lib\\site-packages\\sklearn\\linear_model\\_ridge.py:212: LinAlgWarning: Ill-conditioned matrix (rcond=7.82471e-23): result may not be accurate.\n",
      "  return linalg.solve(A, Xy, assume_a=\"pos\", overwrite_a=True).T\n",
      "C:\\Users\\yu301\\anaconda3\\lib\\site-packages\\sklearn\\linear_model\\_ridge.py:212: LinAlgWarning: Ill-conditioned matrix (rcond=1.47367e-22): result may not be accurate.\n",
      "  return linalg.solve(A, Xy, assume_a=\"pos\", overwrite_a=True).T\n",
      "C:\\Users\\yu301\\anaconda3\\lib\\site-packages\\sklearn\\linear_model\\_ridge.py:212: LinAlgWarning: Ill-conditioned matrix (rcond=9.76297e-23): result may not be accurate.\n",
      "  return linalg.solve(A, Xy, assume_a=\"pos\", overwrite_a=True).T\n",
      "C:\\Users\\yu301\\anaconda3\\lib\\site-packages\\sklearn\\linear_model\\_ridge.py:212: LinAlgWarning: Ill-conditioned matrix (rcond=9.046e-23): result may not be accurate.\n",
      "  return linalg.solve(A, Xy, assume_a=\"pos\", overwrite_a=True).T\n",
      "C:\\Users\\yu301\\anaconda3\\lib\\site-packages\\sklearn\\linear_model\\_ridge.py:212: LinAlgWarning: Ill-conditioned matrix (rcond=9.63057e-23): result may not be accurate.\n",
      "  return linalg.solve(A, Xy, assume_a=\"pos\", overwrite_a=True).T\n",
      "C:\\Users\\yu301\\anaconda3\\lib\\site-packages\\sklearn\\linear_model\\_ridge.py:212: LinAlgWarning: Ill-conditioned matrix (rcond=7.88067e-23): result may not be accurate.\n",
      "  return linalg.solve(A, Xy, assume_a=\"pos\", overwrite_a=True).T\n",
      "C:\\Users\\yu301\\anaconda3\\lib\\site-packages\\sklearn\\linear_model\\_ridge.py:212: LinAlgWarning: Ill-conditioned matrix (rcond=1.48195e-22): result may not be accurate.\n",
      "  return linalg.solve(A, Xy, assume_a=\"pos\", overwrite_a=True).T\n",
      "C:\\Users\\yu301\\anaconda3\\lib\\site-packages\\sklearn\\linear_model\\_ridge.py:212: LinAlgWarning: Ill-conditioned matrix (rcond=9.82666e-23): result may not be accurate.\n",
      "  return linalg.solve(A, Xy, assume_a=\"pos\", overwrite_a=True).T\n",
      "C:\\Users\\yu301\\anaconda3\\lib\\site-packages\\sklearn\\linear_model\\_ridge.py:212: LinAlgWarning: Ill-conditioned matrix (rcond=9.1038e-23): result may not be accurate.\n",
      "  return linalg.solve(A, Xy, assume_a=\"pos\", overwrite_a=True).T\n",
      "C:\\Users\\yu301\\anaconda3\\lib\\site-packages\\sklearn\\linear_model\\_ridge.py:212: LinAlgWarning: Ill-conditioned matrix (rcond=9.69118e-23): result may not be accurate.\n",
      "  return linalg.solve(A, Xy, assume_a=\"pos\", overwrite_a=True).T\n",
      "C:\\Users\\yu301\\anaconda3\\lib\\site-packages\\sklearn\\linear_model\\_ridge.py:212: LinAlgWarning: Ill-conditioned matrix (rcond=8.44032e-23): result may not be accurate.\n",
      "  return linalg.solve(A, Xy, assume_a=\"pos\", overwrite_a=True).T\n",
      "C:\\Users\\yu301\\anaconda3\\lib\\site-packages\\sklearn\\linear_model\\_ridge.py:212: LinAlgWarning: Ill-conditioned matrix (rcond=1.56471e-22): result may not be accurate.\n",
      "  return linalg.solve(A, Xy, assume_a=\"pos\", overwrite_a=True).T\n",
      "C:\\Users\\yu301\\anaconda3\\lib\\site-packages\\sklearn\\linear_model\\_ridge.py:212: LinAlgWarning: Ill-conditioned matrix (rcond=1.04635e-22): result may not be accurate.\n",
      "  return linalg.solve(A, Xy, assume_a=\"pos\", overwrite_a=True).T\n",
      "C:\\Users\\yu301\\anaconda3\\lib\\site-packages\\sklearn\\linear_model\\_ridge.py:212: LinAlgWarning: Ill-conditioned matrix (rcond=9.68179e-23): result may not be accurate.\n",
      "  return linalg.solve(A, Xy, assume_a=\"pos\", overwrite_a=True).T\n",
      "C:\\Users\\yu301\\anaconda3\\lib\\site-packages\\sklearn\\linear_model\\_ridge.py:212: LinAlgWarning: Ill-conditioned matrix (rcond=1.02973e-22): result may not be accurate.\n",
      "  return linalg.solve(A, Xy, assume_a=\"pos\", overwrite_a=True).T\n",
      "C:\\Users\\yu301\\anaconda3\\lib\\site-packages\\sklearn\\linear_model\\_ridge.py:212: LinAlgWarning: Ill-conditioned matrix (rcond=1.40367e-22): result may not be accurate.\n",
      "  return linalg.solve(A, Xy, assume_a=\"pos\", overwrite_a=True).T\n",
      "C:\\Users\\yu301\\anaconda3\\lib\\site-packages\\sklearn\\linear_model\\_ridge.py:212: LinAlgWarning: Ill-conditioned matrix (rcond=2.39231e-22): result may not be accurate.\n",
      "  return linalg.solve(A, Xy, assume_a=\"pos\", overwrite_a=True).T\n",
      "C:\\Users\\yu301\\anaconda3\\lib\\site-packages\\sklearn\\linear_model\\_ridge.py:212: LinAlgWarning: Ill-conditioned matrix (rcond=1.6832e-22): result may not be accurate.\n",
      "  return linalg.solve(A, Xy, assume_a=\"pos\", overwrite_a=True).T\n",
      "C:\\Users\\yu301\\anaconda3\\lib\\site-packages\\sklearn\\linear_model\\_ridge.py:212: LinAlgWarning: Ill-conditioned matrix (rcond=1.54617e-22): result may not be accurate.\n",
      "  return linalg.solve(A, Xy, assume_a=\"pos\", overwrite_a=True).T\n",
      "C:\\Users\\yu301\\anaconda3\\lib\\site-packages\\sklearn\\linear_model\\_ridge.py:212: LinAlgWarning: Ill-conditioned matrix (rcond=1.63587e-22): result may not be accurate.\n",
      "  return linalg.solve(A, Xy, assume_a=\"pos\", overwrite_a=True).T\n",
      "C:\\Users\\yu301\\anaconda3\\lib\\site-packages\\sklearn\\linear_model\\_ridge.py:212: LinAlgWarning: Ill-conditioned matrix (rcond=7.00009e-22): result may not be accurate.\n",
      "  return linalg.solve(A, Xy, assume_a=\"pos\", overwrite_a=True).T\n"
     ]
    },
    {
     "name": "stdout",
     "output_type": "stream",
     "text": [
      "Best Alpha: 100\n",
      "Final Mean Squared Error: 278720984467.98\n",
      "Final R-squared: 0.97\n"
     ]
    },
    {
     "name": "stderr",
     "output_type": "stream",
     "text": [
      "C:\\Users\\yu301\\anaconda3\\lib\\site-packages\\sklearn\\linear_model\\_ridge.py:212: LinAlgWarning: Ill-conditioned matrix (rcond=1.06683e-21): result may not be accurate.\n",
      "  return linalg.solve(A, Xy, assume_a=\"pos\", overwrite_a=True).T\n",
      "C:\\Users\\yu301\\anaconda3\\lib\\site-packages\\sklearn\\linear_model\\_ridge.py:212: LinAlgWarning: Ill-conditioned matrix (rcond=8.05172e-22): result may not be accurate.\n",
      "  return linalg.solve(A, Xy, assume_a=\"pos\", overwrite_a=True).T\n",
      "C:\\Users\\yu301\\anaconda3\\lib\\site-packages\\sklearn\\linear_model\\_ridge.py:212: LinAlgWarning: Ill-conditioned matrix (rcond=7.32611e-22): result may not be accurate.\n",
      "  return linalg.solve(A, Xy, assume_a=\"pos\", overwrite_a=True).T\n",
      "C:\\Users\\yu301\\anaconda3\\lib\\site-packages\\sklearn\\linear_model\\_ridge.py:212: LinAlgWarning: Ill-conditioned matrix (rcond=7.69726e-22): result may not be accurate.\n",
      "  return linalg.solve(A, Xy, assume_a=\"pos\", overwrite_a=True).T\n",
      "C:\\Users\\yu301\\anaconda3\\lib\\site-packages\\sklearn\\linear_model\\_ridge.py:212: LinAlgWarning: Ill-conditioned matrix (rcond=6.62158e-22): result may not be accurate.\n",
      "  return linalg.solve(A, Xy, assume_a=\"pos\", overwrite_a=True).T\n"
     ]
    }
   ],
   "source": [
    "# step 5: find the optimzie alpha from ridge model to regularization \n",
    "from sklearn.model_selection import GridSearchCV\n",
    "\n",
    "##when we use degree=2 for polynomial model \n",
    "poly = PolynomialFeatures(degree=2, include_bias=False)\n",
    "X_train_poly = poly.fit_transform(X_train)\n",
    "X_test_poly = poly.transform(X_test)\n",
    "     \n",
    "    \n",
    "# Define a range of alpha values\n",
    "param_grid = {'alpha': [0.01, 0.1, 1, 10, 100]}\n",
    "\n",
    "# Grid search with cross-validation\n",
    "ridge = Ridge()\n",
    "grid_search = GridSearchCV(ridge, param_grid, cv=5, scoring='neg_mean_squared_error')\n",
    "grid_search.fit(X_train_poly, y_train)\n",
    "\n",
    "# Best alpha and best model\n",
    "best_alpha = grid_search.best_params_['alpha']\n",
    "print(f\"Best Alpha: {best_alpha}\")\n",
    "best_model = grid_search.best_estimator_\n",
    "\n",
    "\n",
    "# Predict with the best model\n",
    "y_pred_best = best_model.predict(X_test_poly)\n",
    "\n",
    "# Final evaluation\n",
    "final_mse = mean_squared_error(y_test, y_pred_best)\n",
    "final_r2 = r2_score(y_test, y_pred_best)\n",
    "\n",
    "print(f\"Final Mean Squared Error: {final_mse:.2f}\")\n",
    "print(f\"Final R-squared: {final_r2:.2f}\")"
   ]
  },
  {
   "cell_type": "code",
   "execution_count": null,
   "id": "e85f2d17",
   "metadata": {},
   "outputs": [],
   "source": [
    "\n"
   ]
  },
  {
   "cell_type": "code",
   "execution_count": 158,
   "id": "5ceed8c8",
   "metadata": {},
   "outputs": [
    {
     "name": "stderr",
     "output_type": "stream",
     "text": [
      "C:\\Users\\yu301\\anaconda3\\lib\\site-packages\\sklearn\\linear_model\\_ridge.py:212: LinAlgWarning: Ill-conditioned matrix (rcond=1.02628e-22): result may not be accurate.\n",
      "  return linalg.solve(A, Xy, assume_a=\"pos\", overwrite_a=True).T\n",
      "C:\\Users\\yu301\\anaconda3\\lib\\site-packages\\sklearn\\linear_model\\_ridge.py:212: LinAlgWarning: Ill-conditioned matrix (rcond=1.03131e-22): result may not be accurate.\n",
      "  return linalg.solve(A, Xy, assume_a=\"pos\", overwrite_a=True).T\n",
      "C:\\Users\\yu301\\anaconda3\\lib\\site-packages\\sklearn\\linear_model\\_ridge.py:212: LinAlgWarning: Ill-conditioned matrix (rcond=1.08168e-22): result may not be accurate.\n",
      "  return linalg.solve(A, Xy, assume_a=\"pos\", overwrite_a=True).T\n",
      "C:\\Users\\yu301\\anaconda3\\lib\\site-packages\\sklearn\\linear_model\\_ridge.py:212: LinAlgWarning: Ill-conditioned matrix (rcond=1.5853e-22): result may not be accurate.\n",
      "  return linalg.solve(A, Xy, assume_a=\"pos\", overwrite_a=True).T\n",
      "C:\\Users\\yu301\\anaconda3\\lib\\site-packages\\sklearn\\linear_model\\_ridge.py:212: LinAlgWarning: Ill-conditioned matrix (rcond=6.62158e-22): result may not be accurate.\n",
      "  return linalg.solve(A, Xy, assume_a=\"pos\", overwrite_a=True).T\n"
     ]
    },
    {
     "data": {
      "image/png": "[encoded data removed]",
      "text/plain": [
       "<Figure size 432x288 with 1 Axes>"
      ]
     },
     "metadata": {
      "needs_background": "light"
     },
     "output_type": "display_data"
    }
   ],
   "source": [
    "import matplotlib.pyplot as plt\n",
    "\n",
    "alphas = [0.01, 0.1, 1, 10, 100]\n",
    "mse_scores = []\n",
    "\n",
    "for alpha in alphas:\n",
    "    ridge = Ridge(alpha=alpha)\n",
    "    ridge.fit(X_train_poly, y_train)\n",
    "    y_pred = ridge.predict(X_test_poly)\n",
    "    mse_scores.append(mean_squared_error(y_test, y_pred))\n",
    "\n",
    "plt.plot(alphas, mse_scores, marker='o')\n",
    "plt.xscale('log')\n",
    "plt.xlabel('Alpha')\n",
    "plt.ylabel('Mean Squared Error')\n",
    "plt.title('Effect of Alpha on Ridge Regression')\n",
    "plt.show()\n"
   ]
  },
  {
   "cell_type": "code",
   "execution_count": 138,
   "id": "b7db98cf",
   "metadata": {},
   "outputs": [
    {
     "data": {
      "text/plain": [
       "numpy.ndarray"
      ]
     },
     "execution_count": 138,
     "metadata": {},
     "output_type": "execute_result"
    }
   ],
   "source": [
    "##step 6: final model go with ridge model with variable of polynomical degree 2 "
   ]
  },
  {
   "cell_type": "code",
   "execution_count": 159,
   "id": "6f86f7b2",
   "metadata": {},
   "outputs": [
    {
     "name": "stdout",
     "output_type": "stream",
     "text": [
      "Polynomial Degree 2: MSE = 278720984467.98, R2 = 0.97\n"
     ]
    },
    {
     "name": "stderr",
     "output_type": "stream",
     "text": [
      "C:\\Users\\yu301\\anaconda3\\lib\\site-packages\\sklearn\\linear_model\\_ridge.py:212: LinAlgWarning: Ill-conditioned matrix (rcond=6.62158e-22): result may not be accurate.\n",
      "  return linalg.solve(A, Xy, assume_a=\"pos\", overwrite_a=True).T\n"
     ]
    }
   ],
   "source": [
    "# Generate polynomial features\n",
    "degree = 2  # Adjust degree as needed\n",
    "poly = PolynomialFeatures(degree=degree, include_bias=False)\n",
    "X_train_poly = poly.fit_transform(X_train)\n",
    "X_test_poly = poly.transform(X_test)\n",
    "\n",
    "# Fit Ridge Regression to handle high-dimensional polynomial features\n",
    "ridge = Ridge(alpha=100)  # Adjust alpha for regularization\n",
    "ridge.fit(X_train_poly, y_train)\n",
    "\n",
    "# Evaluate the model\n",
    "y_pred_poly = ridge.predict(X_test_poly)\n",
    "mse_poly = mean_squared_error(y_test, y_pred_poly)\n",
    "r2_poly = r2_score(y_test, y_pred_poly)\n",
    "print(f\"Polynomial Degree {degree}: MSE = {mse_poly:.2f}, R2 = {r2_poly:.2f}\")\n"
   ]
  },
  {
   "cell_type": "code",
   "execution_count": null,
   "id": "51d3e926",
   "metadata": {},
   "outputs": [],
   "source": []
  },
  {
   "cell_type": "code",
   "execution_count": 161,
   "id": "77acd92e",
   "metadata": {},
   "outputs": [
    {
     "name": "stdout",
     "output_type": "stream",
     "text": [
      "                         Feature  Coefficient\n",
      "0                      Price ($)  7433.599412\n",
      "7        Price ($) Print_ads ($)     1.429218\n",
      "5           Price ($) TV_ads ($)     0.657219\n",
      "6       Price ($) online_ads ($)     0.201049\n",
      "12  online_ads ($) Print_ads ($)     0.000175\n",
      "8                   TV_ads ($)^2     0.000038\n",
      "9      TV_ads ($) online_ads ($)     0.000037\n",
      "11              online_ads ($)^2    -0.000045\n",
      "10      TV_ads ($) Print_ads ($)    -0.000145\n",
      "13               Print_ads ($)^2    -0.002525\n",
      "2                 online_ads ($)    -2.326077\n",
      "3                  Print_ads ($)   -26.889045\n",
      "1                     TV_ads ($)   -63.227589\n",
      "4                    Price ($)^2  -837.397220\n"
     ]
    }
   ],
   "source": [
    "import pandas as pd\n",
    "\n",
    "# Example coefficients (as NumPy array)\n",
    "coefficients = ridge.coef_  # Replace this with your model's coefficients\n",
    "feature_names = poly.get_feature_names_out(X.columns)  # Get feature names\n",
    "coefficients = ridge.coef_.flatten()\n",
    "\n",
    "# Create a DataFrame for coefficients\n",
    "coefficients_df = pd.DataFrame({\n",
    "    \"Feature\": feature_names,\n",
    "    \"Coefficient\": coefficients\n",
    "})\n",
    "# Sort coefficients by their absolute values or values\n",
    "coefficients_sorted = coefficients_df.sort_values(by=\"Coefficient\", ascending=False)\n",
    "\n",
    "# Display sorted coefficients\n",
    "print(coefficients_sorted)\n",
    "\n",
    "\n",
    "\n",
    "# . Interpretation of Results\n",
    "# the target (Sales) is primarily influenced by Price, with less contribution from ad channels\n",
    "\n",
    "#Ridge Regularization Shrinks Other Coefficients: \n",
    "# Ridge reduces the magnitude of coefficients for features with low explanatory power, leaving dominant predictors unaffected (or less affected)."
   ]
  },
  {
   "cell_type": "code",
   "execution_count": null,
   "id": "7cd61a41",
   "metadata": {},
   "outputs": [],
   "source": []
  },
  {
   "cell_type": "code",
   "execution_count": null,
   "id": "ae0091a0",
   "metadata": {},
   "outputs": [],
   "source": [
    "\n"
   ]
  },
  {
   "cell_type": "code",
   "execution_count": 163,
   "id": "557b63fb",
   "metadata": {},
   "outputs": [
    {
     "data": {
      "image/png": "[encoded data removed]",
      "text/plain": [
       "<Figure size 432x288 with 1 Axes>"
      ]
     },
     "metadata": {
      "needs_background": "light"
     },
     "output_type": "display_data"
    }
   ],
   "source": [
    "import matplotlib.pyplot as plt\n",
    "\n",
    "coefficients_sorted.plot(\n",
    "    kind=\"bar\", x=\"Feature\", y=\"Coefficient\", legend=False, title=\"Feature Importance\"\n",
    ")\n",
    "plt.ylabel(\"Coefficient Value\")\n",
    "plt.show()\n",
    "\n"
   ]
  },
  {
   "cell_type": "code",
   "execution_count": 165,
   "id": "901592c6",
   "metadata": {},
   "outputs": [
    {
     "data": {
      "image/png": "[encoded data removed]",
      "text/plain": [
       "<Figure size 432x288 with 1 Axes>"
      ]
     },
     "metadata": {
      "needs_background": "light"
     },
     "output_type": "display_data"
    }
   ],
   "source": [
    "import matplotlib.pyplot as plt\n",
    "\n",
    "plt.scatter(X[\"Price ($)\"], y, label=\"Actual Data\")\n",
    "plt.scatter(X[\"Price ($)\"], ridge.predict(poly.transform(X)), color=\"red\", label=\"Predicted\")\n",
    "plt.xlabel(\"Price\")\n",
    "plt.ylabel(\"Sales\")\n",
    "plt.legend()\n",
    "plt.title(\"Price vs Sales with Polynomial Ridge Regression\")\n",
    "plt.show()\n"
   ]
  },
  {
   "cell_type": "code",
   "execution_count": null,
   "id": "641163b1",
   "metadata": {},
   "outputs": [],
   "source": []
  },
  {
   "cell_type": "code",
   "execution_count": null,
   "id": "df2acc00",
   "metadata": {},
   "outputs": [],
   "source": []
  }
 ],
 "metadata": {
  "kernelspec": {
   "display_name": "Python 3 (ipykernel)",
   "language": "python",
   "name": "python3"
  },
  "language_info": {
   "codemirror_mode": {
    "name": "ipython",
    "version": 3
   },
   "file_extension": ".py",
   "mimetype": "text/x-python",
   "name": "python",
   "nbconvert_exporter": "python",
   "pygments_lexer": "ipython3",
   "version": "3.9.12"
  }
 },
 "nbformat": 4,
 "nbformat_minor": 5
}
